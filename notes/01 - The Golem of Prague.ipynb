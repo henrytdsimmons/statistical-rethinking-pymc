{
 "cells": [
  {
   "cell_type": "markdown",
   "id": "c823eb7c-d2aa-45e4-ba0b-15b1eb9a5d83",
   "metadata": {},
   "source": [
    "# 01 - The Gloem of Prague\n",
    "\n",
    "[Video: Statistical Rethinking 2023 - 01 - The Golem of Prague](https://www.youtube.com/watch?v=FdnMWdICdRs&list=PLDcUM9US4XdPz-KxHM4XHt7uUVGWWVSus)\n",
    "\n",
    "For statistical models to produce insights, they require scientific (causal) models.\n",
    "\n",
    "The reasons fro a statistical analysis are not found in the data but in the causes.\n",
    "\n",
    "Causes can't be extracted from the data, you must impose it.\n",
    "\n",
    "Causal inference goes beyond association between variables.\n",
    "\n",
    "__Causal Prediction:__ Knowing a cause means being able to predict consequences of an intervention.\n",
    "\n",
    "__Causal Imputation:__ Knowing a cause means being able to construct counterfactual outcomes – what if I had done something else.\n",
    "\n",
    "## DAGs\n",
    "\n",
    "Directed Acyclic Graphs\n",
    "\n",
    "They're abstract causal models used to clarify scientific thinking.\n",
    "\n",
    "Changing A changes C and X. Changing C and X don't change A."
   ]
  },
  {
   "cell_type": "markdown",
   "id": "10390c86-9138-4f06-889a-d8b5dc66867d",
   "metadata": {},
   "source": [
    "```mermaid\n",
    "graph TD;\n",
    "    A --> C;\n",
    "    B --> C;\n",
    "    A --> X;\n",
    "    B --> Y;\n",
    "    X --> Y;\n",
    "    C --> X;\n",
    "    C --> Y;\n",
    "```"
   ]
  },
  {
   "cell_type": "markdown",
   "id": "31625219-2349-486c-b35c-c6a498ea884d",
   "metadata": {},
   "source": [
    "They help deduce the appropriate statistical models.\n",
    "\n",
    "Consider this:"
   ]
  },
  {
   "cell_type": "markdown",
   "id": "29738c9e-30f0-4ac6-a6e1-be5ce4536faa",
   "metadata": {},
   "source": [
    "```mermaid\n",
    "graph TD;\n",
    "    X --> Y;\n",
    "```"
   ]
  },
  {
   "cell_type": "markdown",
   "id": "c7e4e337-b520-460e-a65d-3ae8b4e73917",
   "metadata": {},
   "source": [
    "X (treatment) is related to y (outcome).\n",
    "\n",
    "We need to also measure A which influence X and B which influences Y. C affects X and Y which is a *confounder*.\n",
    "\n",
    "Picking the right control variables is vital, there is such thing as a bad control."
   ]
  },
  {
   "cell_type": "markdown",
   "id": "6ec1cd27-1adf-40f4-9a62-69ab782fe0a9",
   "metadata": {},
   "source": [
    "# Golems (statistical models)\n",
    "\n",
    "Golems are from Prague where (in a myth) a Rabbi created a clay 'robot' to protect the Jewish people. However, things went wrong and he was forced to destroy it. The point of calling statistical models Golems is that they are:\n",
    "\n",
    "- Powerful\n",
    "- No wisdom\n",
    "- Potentially dangerous\n",
    "\n",
    "There is nothing 'essentially' bad about the Golem! They can be applied in the wrong context and applied too broadly.\n",
    "\n",
    "### Hypotheses and Models\n",
    "\n",
    "We need to make generative causal models.\n",
    "\n",
    "Statistical models justified by generative models and & questions (estimands).\n",
    "\n",
    "### Justifying Controls\n",
    "\n",
    "Which variables should we use?\n",
    "\n",
    "This can't be answered in the absense of a generative causal model.\n",
    "\n",
    "$Y \\sim X$\n",
    "\n",
    "$Y \\sim X + A$\n",
    "\n",
    "$Y \\sim X + A + B$\n",
    "\n",
    "$Y \\sim X + C$\n",
    "\n",
    "*etc.*\n",
    "\n",
    "We will learn which to use.\n",
    "\n",
    "In the above exanple, B and C are the correct ones to use.\n",
    "\n",
    "### Bayesian Analysis\n",
    "\n",
    "For simple analyses, not much improvement on normal frequentist methods.\n",
    "\n",
    "Realistically... There's a big difference.\n",
    "\n",
    "- Measurement error\n",
    "- Missing data\n",
    "- Latent variables\n",
    "- Desire for regularisation\n",
    "\n",
    "Bayesian models are also generative!\n",
    "\n",
    "Going Bayesian is a practical not a philosophical decision.\n",
    "\n",
    "## Owls\n",
    "\n",
    "Metaphor: rest of the owl. We need more steps!\n",
    "\n",
    "Drawing the Bayesian Owl.\n",
    "\n",
    "1. Theoretical estimand - what are we trying to do\n",
    "2. Produce a scientific (causal) model\n",
    "3. Use 1 & 2 to build statistical models\n",
    "4. Simulate from 2 to validate 3 yeilds 1\n",
    "5. Analyse real data\n",
    "\n",
    "## Summary\n",
    "\n",
    "DAGs are transparent scientific assumptions to justify scientific effort, expose it to critique and connect theories to Golems.\n",
    "\n",
    "Golems are brainless powerful statistical models.\n",
    "\n",
    "Owls are documented procedures for workflow and quality assurance."
   ]
  },
  {
   "cell_type": "code",
   "execution_count": null,
   "id": "fcfa6b9e-a779-4185-a50e-47a91f0803d3",
   "metadata": {},
   "outputs": [],
   "source": []
  }
 ],
 "metadata": {
  "kernelspec": {
   "display_name": "Python 3 (ipykernel)",
   "language": "python",
   "name": "python3"
  },
  "language_info": {
   "codemirror_mode": {
    "name": "ipython",
    "version": 3
   },
   "file_extension": ".py",
   "mimetype": "text/x-python",
   "name": "python",
   "nbconvert_exporter": "python",
   "pygments_lexer": "ipython3",
   "version": "3.11.8"
  }
 },
 "nbformat": 4,
 "nbformat_minor": 5
}
